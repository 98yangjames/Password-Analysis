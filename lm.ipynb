{
 "cells": [
  {
   "cell_type": "code",
   "execution_count": 1,
   "metadata": {},
   "outputs": [],
   "source": [
    "# import required packages\n",
    "import pandas as pd\n",
    "\n",
    "import statsmodels.api as sm"
   ]
  },
  {
   "cell_type": "code",
   "execution_count": 2,
   "metadata": {},
   "outputs": [
    {
     "data": {
      "text/html": [
       "<div>\n",
       "<style scoped>\n",
       "    .dataframe tbody tr th:only-of-type {\n",
       "        vertical-align: middle;\n",
       "    }\n",
       "\n",
       "    .dataframe tbody tr th {\n",
       "        vertical-align: top;\n",
       "    }\n",
       "\n",
       "    .dataframe thead th {\n",
       "        text-align: right;\n",
       "    }\n",
       "</style>\n",
       "<table border=\"1\" class=\"dataframe\">\n",
       "  <thead>\n",
       "    <tr style=\"text-align: right;\">\n",
       "      <th></th>\n",
       "      <th>country_code</th>\n",
       "      <th>country</th>\n",
       "      <th>Rank</th>\n",
       "      <th>Password</th>\n",
       "      <th>User_count</th>\n",
       "      <th>Time_to_crack</th>\n",
       "      <th>Global_rank</th>\n",
       "      <th>Time_to_crack_in_seconds</th>\n",
       "      <th>length</th>\n",
       "      <th>unique_chars</th>\n",
       "      <th>numbers</th>\n",
       "      <th>symbols</th>\n",
       "      <th>symbols_and_numbers</th>\n",
       "      <th>sequentials</th>\n",
       "    </tr>\n",
       "  </thead>\n",
       "  <tbody>\n",
       "    <tr>\n",
       "      <th>0</th>\n",
       "      <td>cn</td>\n",
       "      <td>China</td>\n",
       "      <td>1</td>\n",
       "      <td>123456</td>\n",
       "      <td>8159358</td>\n",
       "      <td>&lt; 1 second</td>\n",
       "      <td>1.0</td>\n",
       "      <td>0</td>\n",
       "      <td>6</td>\n",
       "      <td>6</td>\n",
       "      <td>6</td>\n",
       "      <td>0</td>\n",
       "      <td>6</td>\n",
       "      <td>0</td>\n",
       "    </tr>\n",
       "    <tr>\n",
       "      <th>1</th>\n",
       "      <td>cn</td>\n",
       "      <td>China</td>\n",
       "      <td>2</td>\n",
       "      <td>123456789</td>\n",
       "      <td>1817250</td>\n",
       "      <td>&lt; 1 second</td>\n",
       "      <td>2.0</td>\n",
       "      <td>0</td>\n",
       "      <td>9</td>\n",
       "      <td>9</td>\n",
       "      <td>9</td>\n",
       "      <td>0</td>\n",
       "      <td>9</td>\n",
       "      <td>0</td>\n",
       "    </tr>\n",
       "    <tr>\n",
       "      <th>2</th>\n",
       "      <td>cn</td>\n",
       "      <td>China</td>\n",
       "      <td>3</td>\n",
       "      <td>12345678</td>\n",
       "      <td>700019</td>\n",
       "      <td>&lt; 1 second</td>\n",
       "      <td>6.0</td>\n",
       "      <td>0</td>\n",
       "      <td>8</td>\n",
       "      <td>8</td>\n",
       "      <td>8</td>\n",
       "      <td>0</td>\n",
       "      <td>8</td>\n",
       "      <td>0</td>\n",
       "    </tr>\n",
       "    <tr>\n",
       "      <th>3</th>\n",
       "      <td>cn</td>\n",
       "      <td>China</td>\n",
       "      <td>4</td>\n",
       "      <td>654321</td>\n",
       "      <td>245827</td>\n",
       "      <td>&lt; 1 second</td>\n",
       "      <td>23.0</td>\n",
       "      <td>0</td>\n",
       "      <td>6</td>\n",
       "      <td>6</td>\n",
       "      <td>6</td>\n",
       "      <td>0</td>\n",
       "      <td>6</td>\n",
       "      <td>0</td>\n",
       "    </tr>\n",
       "    <tr>\n",
       "      <th>4</th>\n",
       "      <td>cn</td>\n",
       "      <td>China</td>\n",
       "      <td>5</td>\n",
       "      <td>1234567890</td>\n",
       "      <td>210168</td>\n",
       "      <td>&lt; 1 second</td>\n",
       "      <td>9.0</td>\n",
       "      <td>0</td>\n",
       "      <td>10</td>\n",
       "      <td>10</td>\n",
       "      <td>10</td>\n",
       "      <td>0</td>\n",
       "      <td>10</td>\n",
       "      <td>0</td>\n",
       "    </tr>\n",
       "  </tbody>\n",
       "</table>\n",
       "</div>"
      ],
      "text/plain": [
       "  country_code country  Rank    Password  User_count Time_to_crack  \\\n",
       "0           cn   China     1      123456     8159358    < 1 second   \n",
       "1           cn   China     2   123456789     1817250    < 1 second   \n",
       "2           cn   China     3    12345678      700019    < 1 second   \n",
       "3           cn   China     4      654321      245827    < 1 second   \n",
       "4           cn   China     5  1234567890      210168    < 1 second   \n",
       "\n",
       "   Global_rank  Time_to_crack_in_seconds  length  unique_chars  numbers  \\\n",
       "0          1.0                         0       6             6        6   \n",
       "1          2.0                         0       9             9        9   \n",
       "2          6.0                         0       8             8        8   \n",
       "3         23.0                         0       6             6        6   \n",
       "4          9.0                         0      10            10       10   \n",
       "\n",
       "   symbols  symbols_and_numbers  sequentials  \n",
       "0        0                    6            0  \n",
       "1        0                    9            0  \n",
       "2        0                    8            0  \n",
       "3        0                    6            0  \n",
       "4        0                   10            0  "
      ]
     },
     "execution_count": 2,
     "metadata": {},
     "output_type": "execute_result"
    }
   ],
   "source": [
    "# read the data\n",
    "df = pd.read_csv('D:\\\\Password-Analysis\\\\Datasets\\\\top_200_password_2020_by_country_extended.csv')\n",
    "df.head()"
   ]
  },
  {
   "cell_type": "code",
   "execution_count": 4,
   "metadata": {},
   "outputs": [],
   "source": [
    "# creating dummy variables for country column since it is categorical data\n",
    "df = pd.get_dummies(df, columns=['country'])"
   ]
  },
  {
   "cell_type": "code",
   "execution_count": 5,
   "metadata": {},
   "outputs": [],
   "source": [
    "# defining the X and Y \n",
    "x = df[['country_China', 'country_Russia', 'country_Spain',\n",
    "       'country_United States', 'country_Vietnam']]\n",
    "y = df['length']"
   ]
  },
  {
   "cell_type": "markdown",
   "metadata": {},
   "source": [
    "### Linear Model with Standard Errors"
   ]
  },
  {
   "cell_type": "code",
   "execution_count": 6,
   "metadata": {},
   "outputs": [
    {
     "name": "stdout",
     "output_type": "stream",
     "text": [
      "                            WLS Regression Results                            \n",
      "==============================================================================\n",
      "Dep. Variable:                 length   R-squared:                       0.016\n",
      "Model:                            WLS   Adj. R-squared:                  0.012\n",
      "Method:                 Least Squares   F-statistic:                     3.932\n",
      "Date:                Sun, 06 Mar 2022   Prob (F-statistic):            0.00357\n",
      "Time:                        22:35:52   Log-Likelihood:                -2827.7\n",
      "No. Observations:                1000   AIC:                             5665.\n",
      "Df Residuals:                     995   BIC:                             5690.\n",
      "Df Model:                           4                                         \n",
      "Covariance Type:            nonrobust                                         \n",
      "=========================================================================================\n",
      "                            coef    std err          t      P>|t|      [0.025      0.975]\n",
      "-----------------------------------------------------------------------------------------\n",
      "const                     5.7697      0.081     71.208      0.000       5.611       5.929\n",
      "country_China             1.1269      0.173      6.497      0.000       0.787       1.467\n",
      "country_Russia            1.5151      0.094     16.037      0.000       1.330       1.701\n",
      "country_Spain             0.8205      0.264      3.109      0.002       0.303       1.338\n",
      "country_United States     1.0847      0.133      8.162      0.000       0.824       1.346\n",
      "country_Vietnam           1.2224      0.253      4.829      0.000       0.726       1.719\n",
      "==============================================================================\n",
      "Omnibus:                      351.283   Durbin-Watson:                   2.143\n",
      "Prob(Omnibus):                  0.000   Jarque-Bera (JB):            41902.778\n",
      "Skew:                           0.526   Prob(JB):                         0.00\n",
      "Kurtosis:                      34.695   Cond. No.                     2.25e+16\n",
      "==============================================================================\n",
      "\n",
      "Notes:\n",
      "[1] Standard Errors assume that the covariance matrix of the errors is correctly specified.\n",
      "[2] The smallest eigenvalue is 6.46e-25. This might indicate that there are\n",
      "strong multicollinearity problems or that the design matrix is singular.\n"
     ]
    },
    {
     "name": "stderr",
     "output_type": "stream",
     "text": [
      "C:\\Users\\yashv\\anaconda3\\lib\\site-packages\\statsmodels\\tsa\\tsatools.py:142: FutureWarning: In a future version of pandas all arguments of concat except for the argument 'objs' will be keyword-only\n",
      "  x = pd.concat(x[::order], 1)\n"
     ]
    }
   ],
   "source": [
    "# adding the constant term\n",
    "x = sm.add_constant(x)\n",
    "  \n",
    "# performing the regression and fitting the model\n",
    "model_fit_1 = sm.WLS(y, x, df['User_count']).fit()\n",
    "  \n",
    "# printing the summary table\n",
    "print(model_fit_1.summary())"
   ]
  },
  {
   "cell_type": "markdown",
   "metadata": {},
   "source": [
    "### Linear Model with Robust Standard Errors"
   ]
  },
  {
   "cell_type": "code",
   "execution_count": 7,
   "metadata": {},
   "outputs": [
    {
     "name": "stdout",
     "output_type": "stream",
     "text": [
      "                            WLS Regression Results                            \n",
      "==============================================================================\n",
      "Dep. Variable:                 length   R-squared:                       0.016\n",
      "Model:                            WLS   Adj. R-squared:                  0.012\n",
      "Method:                 Least Squares   F-statistic:                     425.6\n",
      "Date:                Sun, 06 Mar 2022   Prob (F-statistic):          3.62e-244\n",
      "Time:                        22:37:29   Log-Likelihood:                -2827.7\n",
      "No. Observations:                1000   AIC:                             5665.\n",
      "Df Residuals:                     995   BIC:                             5690.\n",
      "Df Model:                           4                                         \n",
      "Covariance Type:                  HC3                                         \n",
      "=========================================================================================\n",
      "                            coef    std err          z      P>|z|      [0.025      0.975]\n",
      "-----------------------------------------------------------------------------------------\n",
      "const                     5.7697      0.319     18.115      0.000       5.145       6.394\n",
      "country_China             1.1269      0.994      1.134      0.257      -0.822       3.075\n",
      "country_Russia            1.5151      0.449      3.371      0.001       0.634       2.396\n",
      "country_Spain             0.8205      0.461      1.781      0.075      -0.082       1.724\n",
      "country_United States     1.0847      0.351      3.093      0.002       0.397       1.772\n",
      "country_Vietnam           1.2224      1.190      1.027      0.304      -1.110       3.555\n",
      "==============================================================================\n",
      "Omnibus:                      351.283   Durbin-Watson:                   2.143\n",
      "Prob(Omnibus):                  0.000   Jarque-Bera (JB):            41902.778\n",
      "Skew:                           0.526   Prob(JB):                         0.00\n",
      "Kurtosis:                      34.695   Cond. No.                     2.25e+16\n",
      "==============================================================================\n",
      "\n",
      "Notes:\n",
      "[1] Standard Errors are heteroscedasticity robust (HC3)\n",
      "[2] The smallest eigenvalue is 6.46e-25. This might indicate that there are\n",
      "strong multicollinearity problems or that the design matrix is singular.\n"
     ]
    },
    {
     "name": "stderr",
     "output_type": "stream",
     "text": [
      "C:\\Users\\yashv\\anaconda3\\lib\\site-packages\\statsmodels\\tsa\\tsatools.py:142: FutureWarning: In a future version of pandas all arguments of concat except for the argument 'objs' will be keyword-only\n",
      "  x = pd.concat(x[::order], 1)\n"
     ]
    }
   ],
   "source": [
    "# adding the constant term\n",
    "x = sm.add_constant(x)\n",
    "  \n",
    "# performing the regression and fitting the model\n",
    "model_fit_2 = sm.WLS(y, x, df['User_count']).fit(cov_type='HC3')\n",
    "  \n",
    "# printing the summary table\n",
    "print(model_fit_2.summary())"
   ]
  }
 ],
 "metadata": {
  "interpreter": {
   "hash": "799123d8584ff8e429164f9ada39181d2ebba77babc969db7f771407bbcee4e2"
  },
  "kernelspec": {
   "display_name": "Python 3.9.7 ('base')",
   "language": "python",
   "name": "python3"
  },
  "language_info": {
   "codemirror_mode": {
    "name": "ipython",
    "version": 3
   },
   "file_extension": ".py",
   "mimetype": "text/x-python",
   "name": "python",
   "nbconvert_exporter": "python",
   "pygments_lexer": "ipython3",
   "version": "3.9.7"
  },
  "orig_nbformat": 4
 },
 "nbformat": 4,
 "nbformat_minor": 2
}
