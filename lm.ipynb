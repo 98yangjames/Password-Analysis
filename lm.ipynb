{
 "cells": [
  {
   "cell_type": "code",
   "execution_count": 1,
   "metadata": {},
   "outputs": [],
   "source": [
    "# import required packages\n",
    "import pandas as pd\n",
    "\n",
    "import statsmodels.api as sm"
   ]
  },
  {
   "cell_type": "code",
   "execution_count": 2,
   "metadata": {},
   "outputs": [
    {
     "data": {
      "text/html": [
       "<div>\n",
       "<style scoped>\n",
       "    .dataframe tbody tr th:only-of-type {\n",
       "        vertical-align: middle;\n",
       "    }\n",
       "\n",
       "    .dataframe tbody tr th {\n",
       "        vertical-align: top;\n",
       "    }\n",
       "\n",
       "    .dataframe thead th {\n",
       "        text-align: right;\n",
       "    }\n",
       "</style>\n",
       "<table border=\"1\" class=\"dataframe\">\n",
       "  <thead>\n",
       "    <tr style=\"text-align: right;\">\n",
       "      <th></th>\n",
       "      <th>country_code</th>\n",
       "      <th>country</th>\n",
       "      <th>Rank</th>\n",
       "      <th>Password</th>\n",
       "      <th>User_count</th>\n",
       "      <th>Time_to_crack</th>\n",
       "      <th>Global_rank</th>\n",
       "      <th>Time_to_crack_in_seconds</th>\n",
       "      <th>length</th>\n",
       "      <th>unique_chars</th>\n",
       "      <th>numbers</th>\n",
       "      <th>symbols</th>\n",
       "      <th>symbols_and_numbers</th>\n",
       "      <th>sequentials</th>\n",
       "    </tr>\n",
       "  </thead>\n",
       "  <tbody>\n",
       "    <tr>\n",
       "      <th>0</th>\n",
       "      <td>cn</td>\n",
       "      <td>China</td>\n",
       "      <td>1</td>\n",
       "      <td>123456</td>\n",
       "      <td>8159358</td>\n",
       "      <td>&lt; 1 second</td>\n",
       "      <td>1.0</td>\n",
       "      <td>0</td>\n",
       "      <td>6</td>\n",
       "      <td>6</td>\n",
       "      <td>6</td>\n",
       "      <td>0</td>\n",
       "      <td>6</td>\n",
       "      <td>0</td>\n",
       "    </tr>\n",
       "    <tr>\n",
       "      <th>1</th>\n",
       "      <td>cn</td>\n",
       "      <td>China</td>\n",
       "      <td>2</td>\n",
       "      <td>123456789</td>\n",
       "      <td>1817250</td>\n",
       "      <td>&lt; 1 second</td>\n",
       "      <td>2.0</td>\n",
       "      <td>0</td>\n",
       "      <td>9</td>\n",
       "      <td>9</td>\n",
       "      <td>9</td>\n",
       "      <td>0</td>\n",
       "      <td>9</td>\n",
       "      <td>0</td>\n",
       "    </tr>\n",
       "    <tr>\n",
       "      <th>2</th>\n",
       "      <td>cn</td>\n",
       "      <td>China</td>\n",
       "      <td>3</td>\n",
       "      <td>12345678</td>\n",
       "      <td>700019</td>\n",
       "      <td>&lt; 1 second</td>\n",
       "      <td>6.0</td>\n",
       "      <td>0</td>\n",
       "      <td>8</td>\n",
       "      <td>8</td>\n",
       "      <td>8</td>\n",
       "      <td>0</td>\n",
       "      <td>8</td>\n",
       "      <td>0</td>\n",
       "    </tr>\n",
       "    <tr>\n",
       "      <th>3</th>\n",
       "      <td>cn</td>\n",
       "      <td>China</td>\n",
       "      <td>4</td>\n",
       "      <td>654321</td>\n",
       "      <td>245827</td>\n",
       "      <td>&lt; 1 second</td>\n",
       "      <td>23.0</td>\n",
       "      <td>0</td>\n",
       "      <td>6</td>\n",
       "      <td>6</td>\n",
       "      <td>6</td>\n",
       "      <td>0</td>\n",
       "      <td>6</td>\n",
       "      <td>0</td>\n",
       "    </tr>\n",
       "    <tr>\n",
       "      <th>4</th>\n",
       "      <td>cn</td>\n",
       "      <td>China</td>\n",
       "      <td>5</td>\n",
       "      <td>1234567890</td>\n",
       "      <td>210168</td>\n",
       "      <td>&lt; 1 second</td>\n",
       "      <td>9.0</td>\n",
       "      <td>0</td>\n",
       "      <td>10</td>\n",
       "      <td>10</td>\n",
       "      <td>10</td>\n",
       "      <td>0</td>\n",
       "      <td>10</td>\n",
       "      <td>0</td>\n",
       "    </tr>\n",
       "  </tbody>\n",
       "</table>\n",
       "</div>"
      ],
      "text/plain": [
       "  country_code country  Rank    Password  User_count Time_to_crack  \\\n",
       "0           cn   China     1      123456     8159358    < 1 second   \n",
       "1           cn   China     2   123456789     1817250    < 1 second   \n",
       "2           cn   China     3    12345678      700019    < 1 second   \n",
       "3           cn   China     4      654321      245827    < 1 second   \n",
       "4           cn   China     5  1234567890      210168    < 1 second   \n",
       "\n",
       "   Global_rank  Time_to_crack_in_seconds  length  unique_chars  numbers  \\\n",
       "0          1.0                         0       6             6        6   \n",
       "1          2.0                         0       9             9        9   \n",
       "2          6.0                         0       8             8        8   \n",
       "3         23.0                         0       6             6        6   \n",
       "4          9.0                         0      10            10       10   \n",
       "\n",
       "   symbols  symbols_and_numbers  sequentials  \n",
       "0        0                    6            0  \n",
       "1        0                    9            0  \n",
       "2        0                    8            0  \n",
       "3        0                    6            0  \n",
       "4        0                   10            0  "
      ]
     },
     "execution_count": 2,
     "metadata": {},
     "output_type": "execute_result"
    }
   ],
   "source": [
    "# read the data\n",
    "df = pd.read_csv('D:\\\\Password-Analysis\\\\Datasets\\\\top_200_password_2020_by_country_extended.csv')\n",
    "df.head()"
   ]
  },
  {
   "cell_type": "code",
   "execution_count": 3,
   "metadata": {},
   "outputs": [],
   "source": [
    "# creating dummy variables for country column since it is categorical data\n",
    "df = pd.get_dummies(df, columns=['country'])"
   ]
  },
  {
   "cell_type": "code",
   "execution_count": 4,
   "metadata": {},
   "outputs": [
    {
     "data": {
      "text/plain": [
       "Index(['country_code', 'Rank', 'Password', 'User_count', 'Time_to_crack',\n",
       "       'Global_rank', 'Time_to_crack_in_seconds', 'length', 'unique_chars',\n",
       "       'numbers', 'symbols', 'symbols_and_numbers', 'sequentials',\n",
       "       'country_China', 'country_Russia', 'country_Spain',\n",
       "       'country_United States', 'country_Vietnam'],\n",
       "      dtype='object')"
      ]
     },
     "execution_count": 4,
     "metadata": {},
     "output_type": "execute_result"
    }
   ],
   "source": [
    "df.columns"
   ]
  },
  {
   "cell_type": "markdown",
   "metadata": {},
   "source": [
    "## Linear Model for Length Attribute"
   ]
  },
  {
   "cell_type": "code",
   "execution_count": 5,
   "metadata": {},
   "outputs": [],
   "source": [
    "# defining the X and Y \n",
    "x_length = df[['country_China', 'country_Russia', 'country_Spain',\n",
    "       'country_United States', 'country_Vietnam']]\n",
    "y_length = df['length']"
   ]
  },
  {
   "cell_type": "markdown",
   "metadata": {},
   "source": [
    "### Linear Model with Standard Errors"
   ]
  },
  {
   "cell_type": "code",
   "execution_count": 6,
   "metadata": {},
   "outputs": [
    {
     "name": "stdout",
     "output_type": "stream",
     "text": [
      "                            WLS Regression Results                            \n",
      "==============================================================================\n",
      "Dep. Variable:                 length   R-squared:                       0.016\n",
      "Model:                            WLS   Adj. R-squared:                  0.012\n",
      "Method:                 Least Squares   F-statistic:                     3.932\n",
      "Date:                Sun, 13 Mar 2022   Prob (F-statistic):            0.00357\n",
      "Time:                        12:32:40   Log-Likelihood:                -2827.7\n",
      "No. Observations:                1000   AIC:                             5665.\n",
      "Df Residuals:                     995   BIC:                             5690.\n",
      "Df Model:                           4                                         \n",
      "Covariance Type:            nonrobust                                         \n",
      "=========================================================================================\n",
      "                            coef    std err          t      P>|t|      [0.025      0.975]\n",
      "-----------------------------------------------------------------------------------------\n",
      "const                     5.7697      0.081     71.208      0.000       5.611       5.929\n",
      "country_China             1.1269      0.173      6.497      0.000       0.787       1.467\n",
      "country_Russia            1.5151      0.094     16.037      0.000       1.330       1.701\n",
      "country_Spain             0.8205      0.264      3.109      0.002       0.303       1.338\n",
      "country_United States     1.0847      0.133      8.162      0.000       0.824       1.346\n",
      "country_Vietnam           1.2224      0.253      4.829      0.000       0.726       1.719\n",
      "==============================================================================\n",
      "Omnibus:                      351.283   Durbin-Watson:                   2.143\n",
      "Prob(Omnibus):                  0.000   Jarque-Bera (JB):            41902.778\n",
      "Skew:                           0.526   Prob(JB):                         0.00\n",
      "Kurtosis:                      34.695   Cond. No.                     2.25e+16\n",
      "==============================================================================\n",
      "\n",
      "Notes:\n",
      "[1] Standard Errors assume that the covariance matrix of the errors is correctly specified.\n",
      "[2] The smallest eigenvalue is 6.46e-25. This might indicate that there are\n",
      "strong multicollinearity problems or that the design matrix is singular.\n"
     ]
    },
    {
     "name": "stderr",
     "output_type": "stream",
     "text": [
      "C:\\Users\\yashv\\anaconda3\\lib\\site-packages\\statsmodels\\tsa\\tsatools.py:142: FutureWarning: In a future version of pandas all arguments of concat except for the argument 'objs' will be keyword-only\n",
      "  x = pd.concat(x[::order], 1)\n"
     ]
    }
   ],
   "source": [
    "# adding the constant term\n",
    "x_length = sm.add_constant(x_length)\n",
    "  \n",
    "# performing the regression and fitting the model\n",
    "length_model_fit_1 = sm.WLS(y_length, x_length, df['User_count']).fit()\n",
    "  \n",
    "# printing the summary table\n",
    "print(length_model_fit_1.summary())"
   ]
  },
  {
   "cell_type": "markdown",
   "metadata": {},
   "source": [
    "### Linear Model with Robust Standard Errors"
   ]
  },
  {
   "cell_type": "code",
   "execution_count": 7,
   "metadata": {},
   "outputs": [
    {
     "name": "stdout",
     "output_type": "stream",
     "text": [
      "                            WLS Regression Results                            \n",
      "==============================================================================\n",
      "Dep. Variable:                 length   R-squared:                       0.016\n",
      "Model:                            WLS   Adj. R-squared:                  0.012\n",
      "Method:                 Least Squares   F-statistic:                     425.6\n",
      "Date:                Sun, 13 Mar 2022   Prob (F-statistic):          3.62e-244\n",
      "Time:                        12:32:40   Log-Likelihood:                -2827.7\n",
      "No. Observations:                1000   AIC:                             5665.\n",
      "Df Residuals:                     995   BIC:                             5690.\n",
      "Df Model:                           4                                         \n",
      "Covariance Type:                  HC3                                         \n",
      "=========================================================================================\n",
      "                            coef    std err          z      P>|z|      [0.025      0.975]\n",
      "-----------------------------------------------------------------------------------------\n",
      "const                     5.7697      0.319     18.115      0.000       5.145       6.394\n",
      "country_China             1.1269      0.994      1.134      0.257      -0.822       3.075\n",
      "country_Russia            1.5151      0.449      3.371      0.001       0.634       2.396\n",
      "country_Spain             0.8205      0.461      1.781      0.075      -0.082       1.724\n",
      "country_United States     1.0847      0.351      3.093      0.002       0.397       1.772\n",
      "country_Vietnam           1.2224      1.190      1.027      0.304      -1.110       3.555\n",
      "==============================================================================\n",
      "Omnibus:                      351.283   Durbin-Watson:                   2.143\n",
      "Prob(Omnibus):                  0.000   Jarque-Bera (JB):            41902.778\n",
      "Skew:                           0.526   Prob(JB):                         0.00\n",
      "Kurtosis:                      34.695   Cond. No.                     2.25e+16\n",
      "==============================================================================\n",
      "\n",
      "Notes:\n",
      "[1] Standard Errors are heteroscedasticity robust (HC3)\n",
      "[2] The smallest eigenvalue is 6.46e-25. This might indicate that there are\n",
      "strong multicollinearity problems or that the design matrix is singular.\n"
     ]
    },
    {
     "name": "stderr",
     "output_type": "stream",
     "text": [
      "C:\\Users\\yashv\\anaconda3\\lib\\site-packages\\statsmodels\\tsa\\tsatools.py:142: FutureWarning: In a future version of pandas all arguments of concat except for the argument 'objs' will be keyword-only\n",
      "  x = pd.concat(x[::order], 1)\n"
     ]
    }
   ],
   "source": [
    "# adding the constant term\n",
    "x_length = sm.add_constant(x_length)\n",
    "  \n",
    "# performing the regression and fitting the model\n",
    "length_model_fit_2 = sm.WLS(y_length, x_length, df['User_count']).fit(cov_type='HC3')\n",
    "  \n",
    "# printing the summary table\n",
    "print(length_model_fit_2.summary())"
   ]
  },
  {
   "cell_type": "markdown",
   "metadata": {},
   "source": [
    "## Linear model for Unique Characters Attribute"
   ]
  },
  {
   "cell_type": "code",
   "execution_count": 8,
   "metadata": {},
   "outputs": [],
   "source": [
    "# defining the X and Y \n",
    "x_unique_chars = df[['country_China', 'country_Russia', 'country_Spain',\n",
    "       'country_United States', 'country_Vietnam']]\n",
    "y_unique_chars = df['unique_chars']"
   ]
  },
  {
   "cell_type": "markdown",
   "metadata": {},
   "source": [
    "### Linear Model with Standard Errors"
   ]
  },
  {
   "cell_type": "code",
   "execution_count": 9,
   "metadata": {},
   "outputs": [
    {
     "name": "stdout",
     "output_type": "stream",
     "text": [
      "                            WLS Regression Results                            \n",
      "==============================================================================\n",
      "Dep. Variable:           unique_chars   R-squared:                       0.037\n",
      "Model:                            WLS   Adj. R-squared:                  0.033\n",
      "Method:                 Least Squares   F-statistic:                     9.576\n",
      "Date:                Sun, 13 Mar 2022   Prob (F-statistic):           1.34e-07\n",
      "Time:                        12:32:40   Log-Likelihood:                -2971.7\n",
      "No. Observations:                1000   AIC:                             5953.\n",
      "Df Residuals:                     995   BIC:                             5978.\n",
      "Df Model:                           4                                         \n",
      "Covariance Type:            nonrobust                                         \n",
      "=========================================================================================\n",
      "                            coef    std err          t      P>|t|      [0.025      0.975]\n",
      "-----------------------------------------------------------------------------------------\n",
      "const                     5.3183      0.094     56.832      0.000       5.135       5.502\n",
      "country_China             1.2445      0.200      6.213      0.000       0.851       1.638\n",
      "country_Russia            1.6371      0.109     15.004      0.000       1.423       1.851\n",
      "country_Spain             0.3609      0.305      1.184      0.237      -0.237       0.959\n",
      "country_United States     0.7754      0.153      5.052      0.000       0.474       1.077\n",
      "country_Vietnam           1.3004      0.292      4.448      0.000       0.727       1.874\n",
      "==============================================================================\n",
      "Omnibus:                      404.234   Durbin-Watson:                   2.097\n",
      "Prob(Omnibus):                  0.000   Jarque-Bera (JB):            34359.395\n",
      "Skew:                           0.914   Prob(JB):                         0.00\n",
      "Kurtosis:                      31.658   Cond. No.                     2.25e+16\n",
      "==============================================================================\n",
      "\n",
      "Notes:\n",
      "[1] Standard Errors assume that the covariance matrix of the errors is correctly specified.\n",
      "[2] The smallest eigenvalue is 6.46e-25. This might indicate that there are\n",
      "strong multicollinearity problems or that the design matrix is singular.\n"
     ]
    },
    {
     "name": "stderr",
     "output_type": "stream",
     "text": [
      "C:\\Users\\yashv\\anaconda3\\lib\\site-packages\\statsmodels\\tsa\\tsatools.py:142: FutureWarning: In a future version of pandas all arguments of concat except for the argument 'objs' will be keyword-only\n",
      "  x = pd.concat(x[::order], 1)\n"
     ]
    }
   ],
   "source": [
    "# adding the constant term\n",
    "x_unique_chars = sm.add_constant(x_unique_chars)\n",
    "  \n",
    "# performing the regression and fitting the model\n",
    "unique_chars_model_fit_1 = sm.WLS(y_unique_chars, x_unique_chars, df['User_count']).fit()\n",
    "  \n",
    "# printing the summary table\n",
    "print(unique_chars_model_fit_1.summary())"
   ]
  },
  {
   "cell_type": "markdown",
   "metadata": {},
   "source": [
    "### Linear Model with Robust Standard Errors"
   ]
  },
  {
   "cell_type": "code",
   "execution_count": 10,
   "metadata": {},
   "outputs": [
    {
     "name": "stdout",
     "output_type": "stream",
     "text": [
      "                            WLS Regression Results                            \n",
      "==============================================================================\n",
      "Dep. Variable:           unique_chars   R-squared:                       0.037\n",
      "Model:                            WLS   Adj. R-squared:                  0.033\n",
      "Method:                 Least Squares   F-statistic:                     440.2\n",
      "Date:                Sun, 13 Mar 2022   Prob (F-statistic):          3.52e-249\n",
      "Time:                        12:32:40   Log-Likelihood:                -2971.7\n",
      "No. Observations:                1000   AIC:                             5953.\n",
      "Df Residuals:                     995   BIC:                             5978.\n",
      "Df Model:                           4                                         \n",
      "Covariance Type:                  HC3                                         \n",
      "=========================================================================================\n",
      "                            coef    std err          z      P>|z|      [0.025      0.975]\n",
      "-----------------------------------------------------------------------------------------\n",
      "const                     5.3183      0.225     23.664      0.000       4.878       5.759\n",
      "country_China             1.2445      0.679      1.834      0.067      -0.086       2.575\n",
      "country_Russia            1.6371      0.383      4.275      0.000       0.886       2.388\n",
      "country_Spain             0.3609      0.347      1.040      0.298      -0.319       1.041\n",
      "country_United States     0.7754      0.260      2.980      0.003       0.265       1.285\n",
      "country_Vietnam           1.3004      0.818      1.589      0.112      -0.303       2.904\n",
      "==============================================================================\n",
      "Omnibus:                      404.234   Durbin-Watson:                   2.097\n",
      "Prob(Omnibus):                  0.000   Jarque-Bera (JB):            34359.395\n",
      "Skew:                           0.914   Prob(JB):                         0.00\n",
      "Kurtosis:                      31.658   Cond. No.                     2.25e+16\n",
      "==============================================================================\n",
      "\n",
      "Notes:\n",
      "[1] Standard Errors are heteroscedasticity robust (HC3)\n",
      "[2] The smallest eigenvalue is 6.46e-25. This might indicate that there are\n",
      "strong multicollinearity problems or that the design matrix is singular.\n"
     ]
    },
    {
     "name": "stderr",
     "output_type": "stream",
     "text": [
      "C:\\Users\\yashv\\anaconda3\\lib\\site-packages\\statsmodels\\tsa\\tsatools.py:142: FutureWarning: In a future version of pandas all arguments of concat except for the argument 'objs' will be keyword-only\n",
      "  x = pd.concat(x[::order], 1)\n"
     ]
    }
   ],
   "source": [
    "# adding the constant term\n",
    "x_unique_chars = sm.add_constant(x_unique_chars)\n",
    "  \n",
    "# performing the regression and fitting the model\n",
    "unique_chars_model_fit_2 = sm.WLS(y_unique_chars, x_unique_chars, df['User_count']).fit(cov_type='HC3')\n",
    "  \n",
    "# printing the summary table\n",
    "print(unique_chars_model_fit_2.summary())"
   ]
  },
  {
   "cell_type": "markdown",
   "metadata": {},
   "source": [
    "## Linear Model for Number of #s Attribute"
   ]
  },
  {
   "cell_type": "code",
   "execution_count": 11,
   "metadata": {},
   "outputs": [],
   "source": [
    "# defining the X and Y \n",
    "x_numbers = df[['country_China', 'country_Russia', 'country_Spain',\n",
    "       'country_United States', 'country_Vietnam']]\n",
    "y_numbers = df['numbers']"
   ]
  },
  {
   "cell_type": "markdown",
   "metadata": {},
   "source": [
    "### Linear Model with Standard Errors"
   ]
  },
  {
   "cell_type": "code",
   "execution_count": 12,
   "metadata": {},
   "outputs": [
    {
     "name": "stderr",
     "output_type": "stream",
     "text": [
      "C:\\Users\\yashv\\anaconda3\\lib\\site-packages\\statsmodels\\tsa\\tsatools.py:142: FutureWarning: In a future version of pandas all arguments of concat except for the argument 'objs' will be keyword-only\n",
      "  x = pd.concat(x[::order], 1)\n"
     ]
    },
    {
     "name": "stdout",
     "output_type": "stream",
     "text": [
      "                            WLS Regression Results                            \n",
      "==============================================================================\n",
      "Dep. Variable:                numbers   R-squared:                       0.073\n",
      "Model:                            WLS   Adj. R-squared:                  0.069\n",
      "Method:                 Least Squares   F-statistic:                     19.62\n",
      "Date:                Sun, 13 Mar 2022   Prob (F-statistic):           1.47e-15\n",
      "Time:                        12:32:40   Log-Likelihood:                -3549.6\n",
      "No. Observations:                1000   AIC:                             7109.\n",
      "Df Residuals:                     995   BIC:                             7134.\n",
      "Df Model:                           4                                         \n",
      "Covariance Type:            nonrobust                                         \n",
      "=========================================================================================\n",
      "                            coef    std err          t      P>|t|      [0.025      0.975]\n",
      "-----------------------------------------------------------------------------------------\n",
      "const                     3.4565      0.167     20.724      0.000       3.129       3.784\n",
      "country_China             2.4425      0.357      6.842      0.000       1.742       3.143\n",
      "country_Russia            0.2495      0.194      1.283      0.200      -0.132       0.631\n",
      "country_Spain             0.4996      0.543      0.920      0.358      -0.566       1.566\n",
      "country_United States    -1.4422      0.274     -5.272      0.000      -1.979      -0.905\n",
      "country_Vietnam           1.7072      0.521      3.277      0.001       0.685       2.730\n",
      "==============================================================================\n",
      "Omnibus:                      930.035   Durbin-Watson:                   1.916\n",
      "Prob(Omnibus):                  0.000   Jarque-Bera (JB):           190858.484\n",
      "Skew:                           3.592   Prob(JB):                         0.00\n",
      "Kurtosis:                      70.298   Cond. No.                     2.25e+16\n",
      "==============================================================================\n",
      "\n",
      "Notes:\n",
      "[1] Standard Errors assume that the covariance matrix of the errors is correctly specified.\n",
      "[2] The smallest eigenvalue is 6.46e-25. This might indicate that there are\n",
      "strong multicollinearity problems or that the design matrix is singular.\n"
     ]
    }
   ],
   "source": [
    "# adding the constant term\n",
    "x_numbers = sm.add_constant(x_numbers)\n",
    "  \n",
    "# performing the regression and fitting the model\n",
    "numbers_model_fit_1 = sm.WLS(y_numbers, x_numbers, df['User_count']).fit()\n",
    "  \n",
    "# printing the summary table\n",
    "print(numbers_model_fit_1.summary())"
   ]
  },
  {
   "cell_type": "markdown",
   "metadata": {},
   "source": [
    "### Linear Model with Robust Standard Errors"
   ]
  },
  {
   "cell_type": "code",
   "execution_count": 13,
   "metadata": {},
   "outputs": [
    {
     "name": "stdout",
     "output_type": "stream",
     "text": [
      "                            WLS Regression Results                            \n",
      "==============================================================================\n",
      "Dep. Variable:                numbers   R-squared:                       0.073\n",
      "Model:                            WLS   Adj. R-squared:                  0.069\n",
      "Method:                 Least Squares   F-statistic:                     45.84\n",
      "Date:                Sun, 13 Mar 2022   Prob (F-statistic):           1.11e-42\n",
      "Time:                        12:32:40   Log-Likelihood:                -3549.6\n",
      "No. Observations:                1000   AIC:                             7109.\n",
      "Df Residuals:                     995   BIC:                             7134.\n",
      "Df Model:                           4                                         \n",
      "Covariance Type:                  HC3                                         \n",
      "=========================================================================================\n",
      "                            coef    std err          z      P>|z|      [0.025      0.975]\n",
      "-----------------------------------------------------------------------------------------\n",
      "const                     3.4565      0.320     10.802      0.000       2.829       4.084\n",
      "country_China             2.4425      0.511      4.779      0.000       1.441       3.444\n",
      "country_Russia            0.2495      0.795      0.314      0.754      -1.309       1.808\n",
      "country_Spain             0.4996      0.599      0.834      0.405      -0.675       1.674\n",
      "country_United States    -1.4422      0.586     -2.460      0.014      -2.591      -0.293\n",
      "country_Vietnam           1.7072      1.172      1.457      0.145      -0.590       4.004\n",
      "==============================================================================\n",
      "Omnibus:                      930.035   Durbin-Watson:                   1.916\n",
      "Prob(Omnibus):                  0.000   Jarque-Bera (JB):           190858.484\n",
      "Skew:                           3.592   Prob(JB):                         0.00\n",
      "Kurtosis:                      70.298   Cond. No.                     2.25e+16\n",
      "==============================================================================\n",
      "\n",
      "Notes:\n",
      "[1] Standard Errors are heteroscedasticity robust (HC3)\n",
      "[2] The smallest eigenvalue is 6.46e-25. This might indicate that there are\n",
      "strong multicollinearity problems or that the design matrix is singular.\n"
     ]
    },
    {
     "name": "stderr",
     "output_type": "stream",
     "text": [
      "C:\\Users\\yashv\\anaconda3\\lib\\site-packages\\statsmodels\\tsa\\tsatools.py:142: FutureWarning: In a future version of pandas all arguments of concat except for the argument 'objs' will be keyword-only\n",
      "  x = pd.concat(x[::order], 1)\n"
     ]
    }
   ],
   "source": [
    "# adding the constant term\n",
    "x_numbers = sm.add_constant(x_numbers)\n",
    "  \n",
    "# performing the regression and fitting the model\n",
    "numbers_model_fit_2 = sm.WLS(y_numbers, x_numbers, df['User_count']).fit(cov_type='HC3')\n",
    "  \n",
    "# printing the summary table\n",
    "print(numbers_model_fit_2.summary())"
   ]
  },
  {
   "cell_type": "markdown",
   "metadata": {},
   "source": [
    "## Linear Model for Sequentials Attribute"
   ]
  },
  {
   "cell_type": "code",
   "execution_count": 14,
   "metadata": {},
   "outputs": [],
   "source": [
    "# defining the X and Y \n",
    "x_sequentials = df[['country_China', 'country_Russia', 'country_Spain',\n",
    "       'country_United States', 'country_Vietnam']]\n",
    "y_sequentials = df['sequentials']"
   ]
  },
  {
   "cell_type": "markdown",
   "metadata": {},
   "source": [
    "### Linear Model with Standard Errors"
   ]
  },
  {
   "cell_type": "code",
   "execution_count": 15,
   "metadata": {},
   "outputs": [
    {
     "name": "stderr",
     "output_type": "stream",
     "text": [
      "C:\\Users\\yashv\\anaconda3\\lib\\site-packages\\statsmodels\\tsa\\tsatools.py:142: FutureWarning: In a future version of pandas all arguments of concat except for the argument 'objs' will be keyword-only\n",
      "  x = pd.concat(x[::order], 1)\n"
     ]
    },
    {
     "name": "stdout",
     "output_type": "stream",
     "text": [
      "                            WLS Regression Results                            \n",
      "==============================================================================\n",
      "Dep. Variable:            sequentials   R-squared:                       0.027\n",
      "Model:                            WLS   Adj. R-squared:                  0.023\n",
      "Method:                 Least Squares   F-statistic:                     6.862\n",
      "Date:                Sun, 13 Mar 2022   Prob (F-statistic):           1.89e-05\n",
      "Time:                        12:32:40   Log-Likelihood:                -1942.0\n",
      "No. Observations:                1000   AIC:                             3894.\n",
      "Df Residuals:                     995   BIC:                             3919.\n",
      "Df Model:                           4                                         \n",
      "Covariance Type:            nonrobust                                         \n",
      "=========================================================================================\n",
      "                            coef    std err          t      P>|t|      [0.025      0.975]\n",
      "-----------------------------------------------------------------------------------------\n",
      "const                     0.1778      0.033      5.321      0.000       0.112       0.243\n",
      "country_China            -0.0864      0.072     -1.208      0.227      -0.227       0.054\n",
      "country_Russia           -0.0527      0.039     -1.353      0.176      -0.129       0.024\n",
      "country_Spain             0.2658      0.109      2.442      0.015       0.052       0.479\n",
      "country_United States     0.2107      0.055      3.844      0.000       0.103       0.318\n",
      "country_Vietnam          -0.1595      0.104     -1.527      0.127      -0.364       0.045\n",
      "==============================================================================\n",
      "Omnibus:                     1738.049   Durbin-Watson:                   2.018\n",
      "Prob(Omnibus):                  0.000   Jarque-Bera (JB):          1675912.772\n",
      "Skew:                          11.303   Prob(JB):                         0.00\n",
      "Kurtosis:                     202.276   Cond. No.                     2.25e+16\n",
      "==============================================================================\n",
      "\n",
      "Notes:\n",
      "[1] Standard Errors assume that the covariance matrix of the errors is correctly specified.\n",
      "[2] The smallest eigenvalue is 6.46e-25. This might indicate that there are\n",
      "strong multicollinearity problems or that the design matrix is singular.\n"
     ]
    }
   ],
   "source": [
    "# adding the constant term\n",
    "x_sequentials = sm.add_constant(x_sequentials)\n",
    "  \n",
    "# performing the regression and fitting the model\n",
    "sequentials_model_fit_1 = sm.WLS(y_sequentials, x_sequentials, df['User_count']).fit()\n",
    "  \n",
    "# printing the summary table\n",
    "print(sequentials_model_fit_1.summary())"
   ]
  },
  {
   "cell_type": "markdown",
   "metadata": {},
   "source": [
    "### Linear Model with Robust Standard Errors"
   ]
  },
  {
   "cell_type": "code",
   "execution_count": 16,
   "metadata": {},
   "outputs": [
    {
     "name": "stdout",
     "output_type": "stream",
     "text": [
      "                            WLS Regression Results                            \n",
      "==============================================================================\n",
      "Dep. Variable:            sequentials   R-squared:                       0.027\n",
      "Model:                            WLS   Adj. R-squared:                  0.023\n",
      "Method:                 Least Squares   F-statistic:                     5.103\n",
      "Date:                Sun, 13 Mar 2022   Prob (F-statistic):           0.000126\n",
      "Time:                        12:32:41   Log-Likelihood:                -1942.0\n",
      "No. Observations:                1000   AIC:                             3894.\n",
      "Df Residuals:                     995   BIC:                             3919.\n",
      "Df Model:                           4                                         \n",
      "Covariance Type:                  HC3                                         \n",
      "=========================================================================================\n",
      "                            coef    std err          z      P>|z|      [0.025      0.975]\n",
      "-----------------------------------------------------------------------------------------\n",
      "const                     0.1778      0.042      4.212      0.000       0.095       0.261\n",
      "country_China            -0.0864      0.103     -0.838      0.402      -0.289       0.116\n",
      "country_Russia           -0.0527      0.077     -0.687      0.492      -0.203       0.098\n",
      "country_Spain             0.2658      0.158      1.685      0.092      -0.043       0.575\n",
      "country_United States     0.2107      0.089      2.359      0.018       0.036       0.386\n",
      "country_Vietnam          -0.1595      0.048     -3.319      0.001      -0.254      -0.065\n",
      "==============================================================================\n",
      "Omnibus:                     1738.049   Durbin-Watson:                   2.018\n",
      "Prob(Omnibus):                  0.000   Jarque-Bera (JB):          1675912.772\n",
      "Skew:                          11.303   Prob(JB):                         0.00\n",
      "Kurtosis:                     202.276   Cond. No.                     2.25e+16\n",
      "==============================================================================\n",
      "\n",
      "Notes:\n",
      "[1] Standard Errors are heteroscedasticity robust (HC3)\n",
      "[2] The smallest eigenvalue is 6.46e-25. This might indicate that there are\n",
      "strong multicollinearity problems or that the design matrix is singular.\n"
     ]
    },
    {
     "name": "stderr",
     "output_type": "stream",
     "text": [
      "C:\\Users\\yashv\\anaconda3\\lib\\site-packages\\statsmodels\\tsa\\tsatools.py:142: FutureWarning: In a future version of pandas all arguments of concat except for the argument 'objs' will be keyword-only\n",
      "  x = pd.concat(x[::order], 1)\n"
     ]
    }
   ],
   "source": [
    "# adding the constant term\n",
    "x_sequentials = sm.add_constant(x_sequentials)\n",
    "  \n",
    "# performing the regression and fitting the model\n",
    "sequentials_model_fit_2 = sm.WLS(y_sequentials, x_sequentials, df['User_count']).fit(cov_type='HC3')\n",
    "  \n",
    "# printing the summary table\n",
    "print(sequentials_model_fit_2.summary())"
   ]
  }
 ],
 "metadata": {
  "interpreter": {
   "hash": "799123d8584ff8e429164f9ada39181d2ebba77babc969db7f771407bbcee4e2"
  },
  "kernelspec": {
   "display_name": "Python 3.9.7 ('base')",
   "language": "python",
   "name": "python3"
  },
  "language_info": {
   "codemirror_mode": {
    "name": "ipython",
    "version": 3
   },
   "file_extension": ".py",
   "mimetype": "text/x-python",
   "name": "python",
   "nbconvert_exporter": "python",
   "pygments_lexer": "ipython3",
   "version": "3.9.7"
  },
  "orig_nbformat": 4
 },
 "nbformat": 4,
 "nbformat_minor": 2
}
