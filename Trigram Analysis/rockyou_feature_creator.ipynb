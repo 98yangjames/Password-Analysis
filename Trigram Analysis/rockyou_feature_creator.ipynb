{
 "cells": [
  {
   "cell_type": "code",
   "execution_count": 1,
   "metadata": {},
   "outputs": [],
   "source": [
    "import pandas as pd"
   ]
  },
  {
   "cell_type": "code",
   "execution_count": 3,
   "metadata": {},
   "outputs": [],
   "source": [
    "with open(\"../Strength Analysis/rockyousubset.txt\", \"r\") as file:\n",
    "    passes = file.readlines()\n",
    "    data = [x.split(\"\\n\")[0] for x in passes]"
   ]
  },
  {
   "cell_type": "code",
   "execution_count": 10,
   "metadata": {},
   "outputs": [],
   "source": [
    "def substring(s):\n",
    " \n",
    "    ans, temp = 1, 1\n",
    "    for i in range(1, len(s)):\n",
    "        if (s[i] == s[i - 1]):\n",
    "            temp += 1\n",
    "        else:\n",
    "            ans = max(ans, temp)\n",
    "            temp = 1\n",
    "    ans = max(ans, temp)\n",
    "    return ans - 1"
   ]
  },
  {
   "cell_type": "code",
   "execution_count": 11,
   "metadata": {},
   "outputs": [],
   "source": [
    "length = [len(x) for x in data]\n",
    "unique_chars = [len(set(x)) for x in data]\n",
    "numbers = [sum(char.isdigit() for char in x) for x in data]\n",
    "symbols = [sum(not (char.isdigit() or char.isalpha()) for char in x) for x in data]\n",
    "symbols_and_numbers = [numbers[i] + symbols[i] for i in range(len(numbers))]\n",
    "sequentials = [substring(x) for x in data]\n"
   ]
  },
  {
   "cell_type": "code",
   "execution_count": 9,
   "metadata": {},
   "outputs": [
    {
     "name": "stdout",
     "output_type": "stream",
     "text": [
      "['04269815011', 'spider1g', 'ktheed', '256082', 'cmt1662']\n",
      "[11, 8, 6, 6, 7]\n",
      "[8, 8, 5, 5, 6]\n",
      "[11, 1, 0, 6, 4]\n",
      "[0, 0, 0, 0, 0]\n",
      "[11, 1, 0, 6, 4]\n",
      "[2, 1, 2, 1, 2]\n"
     ]
    }
   ],
   "source": [
    "print(data[0:5])\n",
    "print(length[0:5])\n",
    "print(unique_chars[0:5])\n",
    "print(numbers[0:5])\n",
    "print(symbols[0:5])\n",
    "print(symbols_and_numbers[0:5])\n",
    "print(sequentials[0:5])"
   ]
  },
  {
   "cell_type": "code",
   "execution_count": 12,
   "metadata": {},
   "outputs": [],
   "source": [
    "csv = pd.DataFrame()\n",
    "csv[\"password\"] = data\n",
    "csv[\"length\"] = length\n",
    "csv[\"unique_chars\"] = unique_chars\n",
    "csv[\"numbers\"] = numbers\n",
    "csv[\"symbols\"] = symbols \n",
    "csv[\"symbols_and_numbers\"] = symbols_and_numbers\n",
    "csv[\"sequentials\"] = sequentials"
   ]
  },
  {
   "cell_type": "code",
   "execution_count": 13,
   "metadata": {},
   "outputs": [
    {
     "data": {
      "text/html": [
       "<div>\n",
       "<style scoped>\n",
       "    .dataframe tbody tr th:only-of-type {\n",
       "        vertical-align: middle;\n",
       "    }\n",
       "\n",
       "    .dataframe tbody tr th {\n",
       "        vertical-align: top;\n",
       "    }\n",
       "\n",
       "    .dataframe thead th {\n",
       "        text-align: right;\n",
       "    }\n",
       "</style>\n",
       "<table border=\"1\" class=\"dataframe\">\n",
       "  <thead>\n",
       "    <tr style=\"text-align: right;\">\n",
       "      <th></th>\n",
       "      <th>password</th>\n",
       "      <th>length</th>\n",
       "      <th>unique_chars</th>\n",
       "      <th>numbers</th>\n",
       "      <th>symbols</th>\n",
       "      <th>symbols_and_numbers</th>\n",
       "      <th>sequentials</th>\n",
       "    </tr>\n",
       "  </thead>\n",
       "  <tbody>\n",
       "    <tr>\n",
       "      <th>0</th>\n",
       "      <td>04269815011</td>\n",
       "      <td>11</td>\n",
       "      <td>8</td>\n",
       "      <td>11</td>\n",
       "      <td>0</td>\n",
       "      <td>11</td>\n",
       "      <td>1</td>\n",
       "    </tr>\n",
       "    <tr>\n",
       "      <th>1</th>\n",
       "      <td>spider1g</td>\n",
       "      <td>8</td>\n",
       "      <td>8</td>\n",
       "      <td>1</td>\n",
       "      <td>0</td>\n",
       "      <td>1</td>\n",
       "      <td>0</td>\n",
       "    </tr>\n",
       "    <tr>\n",
       "      <th>2</th>\n",
       "      <td>ktheed</td>\n",
       "      <td>6</td>\n",
       "      <td>5</td>\n",
       "      <td>0</td>\n",
       "      <td>0</td>\n",
       "      <td>0</td>\n",
       "      <td>1</td>\n",
       "    </tr>\n",
       "    <tr>\n",
       "      <th>3</th>\n",
       "      <td>256082</td>\n",
       "      <td>6</td>\n",
       "      <td>5</td>\n",
       "      <td>6</td>\n",
       "      <td>0</td>\n",
       "      <td>6</td>\n",
       "      <td>0</td>\n",
       "    </tr>\n",
       "    <tr>\n",
       "      <th>4</th>\n",
       "      <td>cmt1662</td>\n",
       "      <td>7</td>\n",
       "      <td>6</td>\n",
       "      <td>4</td>\n",
       "      <td>0</td>\n",
       "      <td>4</td>\n",
       "      <td>1</td>\n",
       "    </tr>\n",
       "  </tbody>\n",
       "</table>\n",
       "</div>"
      ],
      "text/plain": [
       "      password  length  unique_chars  numbers  symbols  symbols_and_numbers  \\\n",
       "0  04269815011      11             8       11        0                   11   \n",
       "1     spider1g       8             8        1        0                    1   \n",
       "2       ktheed       6             5        0        0                    0   \n",
       "3       256082       6             5        6        0                    6   \n",
       "4      cmt1662       7             6        4        0                    4   \n",
       "\n",
       "   sequentials  \n",
       "0            1  \n",
       "1            0  \n",
       "2            1  \n",
       "3            0  \n",
       "4            1  "
      ]
     },
     "execution_count": 13,
     "metadata": {},
     "output_type": "execute_result"
    }
   ],
   "source": [
    "csv.head()"
   ]
  },
  {
   "cell_type": "code",
   "execution_count": 16,
   "metadata": {},
   "outputs": [],
   "source": [
    "csv.to_csv(\"../rockyousubset_extended.csv\", index=False)"
   ]
  },
  {
   "cell_type": "code",
   "execution_count": null,
   "metadata": {},
   "outputs": [],
   "source": []
  }
 ],
 "metadata": {
  "kernelspec": {
   "display_name": "Python 3",
   "language": "python",
   "name": "python3"
  },
  "language_info": {
   "codemirror_mode": {
    "name": "ipython",
    "version": 3
   },
   "file_extension": ".py",
   "mimetype": "text/x-python",
   "name": "python",
   "nbconvert_exporter": "python",
   "pygments_lexer": "ipython3",
   "version": "3.8.3"
  }
 },
 "nbformat": 4,
 "nbformat_minor": 4
}
