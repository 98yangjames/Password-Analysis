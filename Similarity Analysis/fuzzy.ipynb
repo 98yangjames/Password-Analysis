{
 "cells": [
  {
   "cell_type": "code",
   "execution_count": 1,
   "metadata": {},
   "outputs": [
    {
     "name": "stdout",
     "output_type": "stream",
     "text": [
      "Requirement already satisfied: fuzzywuzzy in c:\\users\\yashv\\anaconda3\\lib\\site-packages (0.18.0)\n"
     ]
    }
   ],
   "source": [
    "!pip install fuzzywuzzy"
   ]
  },
  {
   "cell_type": "code",
   "execution_count": 39,
   "metadata": {},
   "outputs": [],
   "source": [
    "# import required packages\n",
    "import pandas as pd\n",
    "import numpy as np\n",
    "\n",
    "from fuzzywuzzy import process, fuzz\n",
    "from scipy.stats import f,t\n",
    "import statsmodels.api as sm\n",
    "\n",
    "import seaborn as sns\n",
    "import matplotlib.pyplot as plt\n",
    "import pylab as py\n",
    "sns.set(style = 'darkgrid')"
   ]
  },
  {
   "cell_type": "code",
   "execution_count": 24,
   "metadata": {},
   "outputs": [
    {
     "data": {
      "text/html": [
       "<div>\n",
       "<style scoped>\n",
       "    .dataframe tbody tr th:only-of-type {\n",
       "        vertical-align: middle;\n",
       "    }\n",
       "\n",
       "    .dataframe tbody tr th {\n",
       "        vertical-align: top;\n",
       "    }\n",
       "\n",
       "    .dataframe thead th {\n",
       "        text-align: right;\n",
       "    }\n",
       "</style>\n",
       "<table border=\"1\" class=\"dataframe\">\n",
       "  <thead>\n",
       "    <tr style=\"text-align: right;\">\n",
       "      <th></th>\n",
       "      <th>country_code</th>\n",
       "      <th>country</th>\n",
       "      <th>Rank</th>\n",
       "      <th>Password</th>\n",
       "      <th>User_count</th>\n",
       "      <th>Time_to_crack</th>\n",
       "      <th>Global_rank</th>\n",
       "      <th>Time_to_crack_in_seconds</th>\n",
       "      <th>length</th>\n",
       "      <th>unique_chars</th>\n",
       "      <th>numbers</th>\n",
       "      <th>symbols</th>\n",
       "      <th>symbols_and_numbers</th>\n",
       "      <th>sequentials</th>\n",
       "    </tr>\n",
       "  </thead>\n",
       "  <tbody>\n",
       "    <tr>\n",
       "      <th>0</th>\n",
       "      <td>cn</td>\n",
       "      <td>China</td>\n",
       "      <td>1</td>\n",
       "      <td>123456</td>\n",
       "      <td>8159358</td>\n",
       "      <td>&lt; 1 second</td>\n",
       "      <td>1.0</td>\n",
       "      <td>0</td>\n",
       "      <td>6</td>\n",
       "      <td>6</td>\n",
       "      <td>6</td>\n",
       "      <td>0</td>\n",
       "      <td>6</td>\n",
       "      <td>0</td>\n",
       "    </tr>\n",
       "    <tr>\n",
       "      <th>1</th>\n",
       "      <td>cn</td>\n",
       "      <td>China</td>\n",
       "      <td>2</td>\n",
       "      <td>123456789</td>\n",
       "      <td>1817250</td>\n",
       "      <td>&lt; 1 second</td>\n",
       "      <td>2.0</td>\n",
       "      <td>0</td>\n",
       "      <td>9</td>\n",
       "      <td>9</td>\n",
       "      <td>9</td>\n",
       "      <td>0</td>\n",
       "      <td>9</td>\n",
       "      <td>0</td>\n",
       "    </tr>\n",
       "    <tr>\n",
       "      <th>2</th>\n",
       "      <td>cn</td>\n",
       "      <td>China</td>\n",
       "      <td>3</td>\n",
       "      <td>12345678</td>\n",
       "      <td>700019</td>\n",
       "      <td>&lt; 1 second</td>\n",
       "      <td>6.0</td>\n",
       "      <td>0</td>\n",
       "      <td>8</td>\n",
       "      <td>8</td>\n",
       "      <td>8</td>\n",
       "      <td>0</td>\n",
       "      <td>8</td>\n",
       "      <td>0</td>\n",
       "    </tr>\n",
       "    <tr>\n",
       "      <th>3</th>\n",
       "      <td>cn</td>\n",
       "      <td>China</td>\n",
       "      <td>4</td>\n",
       "      <td>654321</td>\n",
       "      <td>245827</td>\n",
       "      <td>&lt; 1 second</td>\n",
       "      <td>23.0</td>\n",
       "      <td>0</td>\n",
       "      <td>6</td>\n",
       "      <td>6</td>\n",
       "      <td>6</td>\n",
       "      <td>0</td>\n",
       "      <td>6</td>\n",
       "      <td>0</td>\n",
       "    </tr>\n",
       "    <tr>\n",
       "      <th>4</th>\n",
       "      <td>cn</td>\n",
       "      <td>China</td>\n",
       "      <td>5</td>\n",
       "      <td>1234567890</td>\n",
       "      <td>210168</td>\n",
       "      <td>&lt; 1 second</td>\n",
       "      <td>9.0</td>\n",
       "      <td>0</td>\n",
       "      <td>10</td>\n",
       "      <td>10</td>\n",
       "      <td>10</td>\n",
       "      <td>0</td>\n",
       "      <td>10</td>\n",
       "      <td>0</td>\n",
       "    </tr>\n",
       "  </tbody>\n",
       "</table>\n",
       "</div>"
      ],
      "text/plain": [
       "  country_code country  Rank    Password  User_count Time_to_crack  \\\n",
       "0           cn   China     1      123456     8159358    < 1 second   \n",
       "1           cn   China     2   123456789     1817250    < 1 second   \n",
       "2           cn   China     3    12345678      700019    < 1 second   \n",
       "3           cn   China     4      654321      245827    < 1 second   \n",
       "4           cn   China     5  1234567890      210168    < 1 second   \n",
       "\n",
       "   Global_rank  Time_to_crack_in_seconds  length  unique_chars  numbers  \\\n",
       "0          1.0                         0       6             6        6   \n",
       "1          2.0                         0       9             9        9   \n",
       "2          6.0                         0       8             8        8   \n",
       "3         23.0                         0       6             6        6   \n",
       "4          9.0                         0      10            10       10   \n",
       "\n",
       "   symbols  symbols_and_numbers  sequentials  \n",
       "0        0                    6            0  \n",
       "1        0                    9            0  \n",
       "2        0                    8            0  \n",
       "3        0                    6            0  \n",
       "4        0                   10            0  "
      ]
     },
     "execution_count": 24,
     "metadata": {},
     "output_type": "execute_result"
    }
   ],
   "source": [
    "# read the data\n",
    "df = pd.read_csv('D:\\\\Password-Analysis\\\\Datasets\\\\top_200_password_2020_by_country_extended.csv')\n",
    "df.head()"
   ]
  },
  {
   "cell_type": "code",
   "execution_count": 27,
   "metadata": {},
   "outputs": [
    {
     "data": {
      "text/plain": [
       "array([        0,       120,         8,         2,      1020,     10800,\n",
       "            7200,         7,   1036800,       240,        10,     86400,\n",
       "              60,        11,     39600,         3,        41,        26,\n",
       "            1440,     14400,         1,      3600,    950400,       600,\n",
       "         2332800,       540,        17,    345600,         4,     50400,\n",
       "              22,       180,         5,        34,  26784000,        28,\n",
       "               9,        32,  96422400,  10713600,         6,        13,\n",
       "              42,      1560,       420,  16070400, 996364800,     54000,\n",
       "            2940,       360,     61200,        20,     21600,     57600,\n",
       "       128563200,        55,       300,     43200], dtype=int64)"
      ]
     },
     "execution_count": 27,
     "metadata": {},
     "output_type": "execute_result"
    }
   ],
   "source": [
    "df.Time_to_crack_in_seconds.unique()"
   ]
  },
  {
   "cell_type": "code",
   "execution_count": 25,
   "metadata": {},
   "outputs": [
    {
     "data": {
      "text/plain": [
       "array(['cn', 'ru', 'es', 'us', 'vn'], dtype=object)"
      ]
     },
     "execution_count": 25,
     "metadata": {},
     "output_type": "execute_result"
    }
   ],
   "source": [
    "# get country codes\n",
    "df.country_code.unique()"
   ]
  },
  {
   "cell_type": "code",
   "execution_count": 5,
   "metadata": {},
   "outputs": [],
   "source": [
    "# get countrywise data\n",
    "df_cn = df.loc[df['country_code'] == 'cn']\n",
    "df_ru = df.loc[df['country_code'] == 'ru']\n",
    "df_es = df.loc[df['country_code'] == 'es']\n",
    "df_us = df.loc[df['country_code'] == 'us']\n",
    "df_vn = df.loc[df['country_code'] == 'vn']"
   ]
  },
  {
   "cell_type": "code",
   "execution_count": 6,
   "metadata": {},
   "outputs": [],
   "source": [
    "# defining function to calculate the fuzzy score\n",
    "def fuzzy_similarity(password_df):\n",
    "        \"\"\"\n",
    "        Function to calculate the fuzzy score between different passwords\n",
    "        Args:\n",
    "        password_df -- the password columns in the dataframe\n",
    "        Returns:\n",
    "        Dataframe with fuzzy score between individual passwords with rest of the passwords\n",
    "        \"\"\"\n",
    "\n",
    "        # calculate the fuzzy score\n",
    "        fuzzy_score = [(x,) + i\n",
    "                        for x in password_df \n",
    "                        for i in process.extract(x, password_df, scorer=fuzz.token_sort_ratio)]\n",
    "\n",
    "        # create dataframe from above calculated score\n",
    "        fuzzy_df = pd.DataFrame(fuzzy_score, columns=['password','match','score', 'index'])\n",
    "\n",
    "        # drop the last column as it is not needed\n",
    "        fuzzy_df.drop(columns='index', inplace=True)\n",
    "\n",
    "        # remove the score calculation itself\n",
    "        fuzzy_df = fuzzy_df[fuzzy_df['password'] != fuzzy_df['match']]\n",
    "\n",
    "        return fuzzy_df\n",
    "    "
   ]
  },
  {
   "cell_type": "code",
   "execution_count": 7,
   "metadata": {},
   "outputs": [],
   "source": [
    "# calculating fuzzy score for each country\n",
    "fuzzy_df_cn = fuzzy_similarity(df_cn['Password'])\n",
    "fuzzy_df_ru = fuzzy_similarity(df_ru['Password'])\n",
    "fuzzy_df_es = fuzzy_similarity(df_es['Password'])\n",
    "fuzzy_df_us = fuzzy_similarity(df_us['Password'])\n",
    "fuzzy_df_vn = fuzzy_similarity(df_vn['Password'])"
   ]
  },
  {
   "cell_type": "code",
   "execution_count": 8,
   "metadata": {},
   "outputs": [],
   "source": [
    "# adding country codes to the individual dataframes\n",
    "fuzzy_df_cn['country_code'] = 'cn'\n",
    "fuzzy_df_us['country_code'] = 'us'\n",
    "fuzzy_df_ru['country_code'] = 'ru'\n",
    "fuzzy_df_es['country_code'] = 'es'\n",
    "fuzzy_df_vn['country_code'] = 'vn'\n",
    "\n",
    "# combining all the scores in one datafram\n",
    "fuzzy_scores = pd.DataFrame(data = fuzzy_df_cn, columns=['country_code', 'password', 'match', 'score'])\n",
    "fuzzy_scores = fuzzy_scores.append(fuzzy_df_es, ignore_index=True)\n",
    "fuzzy_scores = fuzzy_scores.append(fuzzy_df_ru, ignore_index=True)\n",
    "fuzzy_scores = fuzzy_scores.append(fuzzy_df_us, ignore_index=True)\n",
    "fuzzy_scores = fuzzy_scores.append(fuzzy_df_vn, ignore_index=True)"
   ]
  },
  {
   "cell_type": "markdown",
   "metadata": {},
   "source": [
    "## Performing Statistical Analysis"
   ]
  },
  {
   "cell_type": "markdown",
   "metadata": {},
   "source": [
    "### Hypothesis 1"
   ]
  },
  {
   "cell_type": "markdown",
   "metadata": {},
   "source": [
    "Null Hypothesis: We hypothesize that the passwords will be identical across different languages and countries.\n",
    "\n",
    "$$\n",
    "H_0: \\mu_{China} = \\mu_{United States} = \\mu_{Russia} = \\mu_{Spain} = \\mu_{Vietnam}\n",
    "$$\n",
    "\n",
    "Alternate Hypothesis: The password are not identical accross different languages and countries."
   ]
  },
  {
   "cell_type": "markdown",
   "metadata": {},
   "source": [
    "ANOVA is the most suitable approach for these kinds for tests, so before performing ANOVA we will first check if all the required assumptions are met or not to perform ANOVA.\n",
    "\n",
    "ANOVA test is based on the following assumptions:\n",
    "1. Data is normally distributed\n",
    "2. Homogeneity of variance\n",
    "3. Observation are independent of each other"
   ]
  },
  {
   "cell_type": "markdown",
   "metadata": {},
   "source": [
    "**Independence of Data**\n",
    "\n",
    "The dataset is idependent as all values are gathered for different countries and it is not associated with each other."
   ]
  },
  {
   "cell_type": "markdown",
   "metadata": {},
   "source": [
    "**Checking for Normality**"
   ]
  },
  {
   "cell_type": "code",
   "execution_count": 9,
   "metadata": {},
   "outputs": [
    {
     "data": {
      "text/plain": [
       "<AxesSubplot:xlabel='score', ylabel='Count'>"
      ]
     },
     "execution_count": 9,
     "metadata": {},
     "output_type": "execute_result"
    },
    {
     "data": {
      "image/png": "[encoded data removed]",
      "text/plain": [
       "<Figure size 1440x720 with 6 Axes>"
      ]
     },
     "metadata": {},
     "output_type": "display_data"
    }
   ],
   "source": [
    "# plotting the histograms\n",
    "fig, axes = plt.subplots(3, 2, figsize=(20,10))\n",
    "\n",
    "sns.histplot(data=fuzzy_df_cn, x = \"score\", kde = True, color=\"skyblue\", ax=axes[0,0])\n",
    "sns.histplot(data=fuzzy_df_us, x = \"score\", kde = True, color=\"olive\", ax=axes[0,1])\n",
    "sns.histplot(data=fuzzy_df_ru, x = \"score\", kde = True, color=\"gold\", ax=axes[1,0])\n",
    "sns.histplot(data=fuzzy_df_es, x = \"score\", kde = True, color=\"teal\", ax=axes[1,1])\n",
    "sns.histplot(data=fuzzy_df_vn, x = \"score\", kde = True, color=\"red\", ax=axes[2,0])"
   ]
  },
  {
   "cell_type": "code",
   "execution_count": 43,
   "metadata": {},
   "outputs": [
    {
     "data": {
      "text/html": [
       "<div>\n",
       "<style scoped>\n",
       "    .dataframe tbody tr th:only-of-type {\n",
       "        vertical-align: middle;\n",
       "    }\n",
       "\n",
       "    .dataframe tbody tr th {\n",
       "        vertical-align: top;\n",
       "    }\n",
       "\n",
       "    .dataframe thead th {\n",
       "        text-align: right;\n",
       "    }\n",
       "</style>\n",
       "<table border=\"1\" class=\"dataframe\">\n",
       "  <thead>\n",
       "    <tr style=\"text-align: right;\">\n",
       "      <th></th>\n",
       "      <th>password</th>\n",
       "      <th>match</th>\n",
       "      <th>score</th>\n",
       "      <th>country_code</th>\n",
       "    </tr>\n",
       "  </thead>\n",
       "  <tbody>\n",
       "    <tr>\n",
       "      <th>1</th>\n",
       "      <td>123456</td>\n",
       "      <td>1234566</td>\n",
       "      <td>92</td>\n",
       "      <td>cn</td>\n",
       "    </tr>\n",
       "    <tr>\n",
       "      <th>2</th>\n",
       "      <td>123456</td>\n",
       "      <td>l123456</td>\n",
       "      <td>92</td>\n",
       "      <td>cn</td>\n",
       "    </tr>\n",
       "    <tr>\n",
       "      <th>3</th>\n",
       "      <td>123456</td>\n",
       "      <td>d123456</td>\n",
       "      <td>92</td>\n",
       "      <td>cn</td>\n",
       "    </tr>\n",
       "    <tr>\n",
       "      <th>4</th>\n",
       "      <td>123456</td>\n",
       "      <td>12345</td>\n",
       "      <td>91</td>\n",
       "      <td>cn</td>\n",
       "    </tr>\n",
       "    <tr>\n",
       "      <th>6</th>\n",
       "      <td>123456789</td>\n",
       "      <td>1234567890</td>\n",
       "      <td>95</td>\n",
       "      <td>cn</td>\n",
       "    </tr>\n",
       "  </tbody>\n",
       "</table>\n",
       "</div>"
      ],
      "text/plain": [
       "    password       match  score country_code\n",
       "1     123456     1234566     92           cn\n",
       "2     123456     l123456     92           cn\n",
       "3     123456     d123456     92           cn\n",
       "4     123456       12345     91           cn\n",
       "6  123456789  1234567890     95           cn"
      ]
     },
     "execution_count": 43,
     "metadata": {},
     "output_type": "execute_result"
    }
   ],
   "source": [
    "fuzzy_df_cn.head()"
   ]
  },
  {
   "cell_type": "markdown",
   "metadata": {},
   "source": [
    "As we can see that the dataset is almost normal since the sample size is small. If we had bigger dataset it would have been a smooth curve. So we can assume that the dataset is normal."
   ]
  },
  {
   "cell_type": "markdown",
   "metadata": {},
   "source": [
    "**Checking for Homogeniety of Variance**"
   ]
  },
  {
   "cell_type": "code",
   "execution_count": 10,
   "metadata": {},
   "outputs": [],
   "source": [
    "# function to get the variances and mean\n",
    "def calc_mean_var(dataframe):\n",
    "    \"\"\"\n",
    "    Calculate the count, mean and variance of the dataframe\n",
    "    \"\"\"\n",
    "    return dataframe.mean(), dataframe.var(), dataframe.count()"
   ]
  },
  {
   "cell_type": "code",
   "execution_count": 11,
   "metadata": {},
   "outputs": [],
   "source": [
    "# calculating mean and variances\n",
    "mean_cn, var_cn, n_cn = calc_mean_var(fuzzy_df_cn['score'])\n",
    "mean_us, var_us, n_us = calc_mean_var(fuzzy_df_us['score'])\n",
    "mean_ru, var_ru, n_ru = calc_mean_var(fuzzy_df_ru['score'])\n",
    "mean_es, var_es, n_es = calc_mean_var(fuzzy_df_es['score'])\n",
    "mean_vn, var_vn, n_vn = calc_mean_var(fuzzy_df_vn['score'])"
   ]
  },
  {
   "cell_type": "code",
   "execution_count": 12,
   "metadata": {},
   "outputs": [
    {
     "data": {
      "text/plain": [
       "[2.0569128115395454,\n",
       " 1.1151021673222667,\n",
       " 1.1350415543731414,\n",
       " 1.0761075934600237,\n",
       " 0.5421241780723034,\n",
       " 0.5518180197067237,\n",
       " 0.5231663624354526,\n",
       " 1.0178812198874616,\n",
       " 0.9650304922679129,\n",
       " 0.9480777063306148]"
      ]
     },
     "execution_count": 12,
     "metadata": {},
     "output_type": "execute_result"
    }
   ],
   "source": [
    "# getting variances in a single list\n",
    "var = [var_cn, var_vn, var_ru, var_es, var_us]\n",
    "\n",
    "# calculating the ratios of variances\n",
    "ratios = []\n",
    "for i in range(5):\n",
    "    for j in range(5):\n",
    "        if i!=j and i<j:\n",
    "            r = var[i]/var[j]\n",
    "            ratios.append(r)\n",
    "\n",
    "ratios"
   ]
  },
  {
   "cell_type": "markdown",
   "metadata": {},
   "source": [
    "We can see that all the ratios are less than $2.0$ or very closer to $2.0$. Hence, the variances all equal for different countries. Hence, the dataset passes the test for homogeniety of variances."
   ]
  },
  {
   "cell_type": "markdown",
   "metadata": {},
   "source": [
    "Since all the assumptions are met, we can perform ANOVA test to check for the hypothesis defined."
   ]
  },
  {
   "cell_type": "code",
   "execution_count": 13,
   "metadata": {},
   "outputs": [],
   "source": [
    "# Create ANOVA backbone table\n",
    "data = [['Between Groups', '', '', '', '', '', ''], ['Within Groups', '', '', '', '', '', ''], ['Total', '', '', '', '', '', '']] \n",
    "anova_table = pd.DataFrame(data, columns = ['Source of Variation', 'SS', 'df', 'MS', 'F', 'P-value', 'F crit']) \n",
    "anova_table.set_index('Source of Variation', inplace = True)"
   ]
  },
  {
   "cell_type": "code",
   "execution_count": 14,
   "metadata": {},
   "outputs": [],
   "source": [
    "# calculate SSTR and update the ANOVA table\n",
    "xbar = fuzzy_scores['score'].mean()\n",
    "SSTR = fuzzy_scores.groupby('country_code').count() * (fuzzy_scores.groupby('country_code').mean() - xbar)**2\n",
    "anova_table['SS']['Between Groups'] = SSTR['score'].sum()"
   ]
  },
  {
   "cell_type": "code",
   "execution_count": 15,
   "metadata": {},
   "outputs": [],
   "source": [
    "# calculate SSE and update the ANOVA table\n",
    "SSE = (fuzzy_scores.groupby('country_code').count() - 1) * fuzzy_scores.groupby('country_code').std() ** 2\n",
    "anova_table['SS']['Within Groups'] = SSE['score'].sum()"
   ]
  },
  {
   "cell_type": "code",
   "execution_count": 16,
   "metadata": {},
   "outputs": [],
   "source": [
    "# calculate SSTR and update the ANOVA table\n",
    "fuzzy_scores['SSTR'] = fuzzy_scores.apply(lambda x: (x['score'] - xbar)**2, axis =1)\n",
    "anova_table['SS']['Total'] = fuzzy_scores['SSTR'].sum()"
   ]
  },
  {
   "cell_type": "code",
   "execution_count": 17,
   "metadata": {},
   "outputs": [],
   "source": [
    "# calculate degrees of freedom\n",
    "anova_table['df']['Between Groups'] = fuzzy_scores['country_code'].nunique() - 1\n",
    "anova_table['df']['Within Groups'] = fuzzy_scores.shape[0] - fuzzy_scores['country_code'].nunique()\n",
    "anova_table['df']['Total'] = fuzzy_scores.shape[0] - 1"
   ]
  },
  {
   "cell_type": "code",
   "execution_count": 18,
   "metadata": {},
   "outputs": [],
   "source": [
    "# calculate MS\n",
    "anova_table['MS'] = anova_table['SS'] / anova_table['df']"
   ]
  },
  {
   "cell_type": "code",
   "execution_count": 19,
   "metadata": {},
   "outputs": [],
   "source": [
    "# calculate F\n",
    "F = anova_table['MS']['Between Groups'] / anova_table['MS']['Within Groups']\n",
    "anova_table['F']['Between Groups'] = F"
   ]
  },
  {
   "cell_type": "code",
   "execution_count": 20,
   "metadata": {},
   "outputs": [],
   "source": [
    "# calculate p-value\n",
    "anova_table['P-value']['Between Groups'] = 1 - f.cdf(F, anova_table['df']['Between Groups'], anova_table['df']['Within Groups'])"
   ]
  },
  {
   "cell_type": "code",
   "execution_count": 21,
   "metadata": {},
   "outputs": [],
   "source": [
    "# calculate F critical \n",
    "alpha = 0.05\n",
    "\n",
    "# possible types \"right-tailed, left-tailed, two-tailed\"\n",
    "tail_hypothesis_type = \"two-tailed\"\n",
    "if tail_hypothesis_type == \"two-tailed\":\n",
    "    alpha /= 2\n",
    "anova_table['F crit']['Between Groups'] = f.ppf(1-alpha, anova_table['df']['Between Groups'], anova_table['df']['Within Groups'])"
   ]
  },
  {
   "cell_type": "code",
   "execution_count": 22,
   "metadata": {},
   "outputs": [
    {
     "data": {
      "text/html": [
       "<div>\n",
       "<style scoped>\n",
       "    .dataframe tbody tr th:only-of-type {\n",
       "        vertical-align: middle;\n",
       "    }\n",
       "\n",
       "    .dataframe tbody tr th {\n",
       "        vertical-align: top;\n",
       "    }\n",
       "\n",
       "    .dataframe thead th {\n",
       "        text-align: right;\n",
       "    }\n",
       "</style>\n",
       "<table border=\"1\" class=\"dataframe\">\n",
       "  <thead>\n",
       "    <tr style=\"text-align: right;\">\n",
       "      <th></th>\n",
       "      <th>SS</th>\n",
       "      <th>df</th>\n",
       "      <th>MS</th>\n",
       "      <th>F</th>\n",
       "      <th>P-value</th>\n",
       "      <th>F crit</th>\n",
       "    </tr>\n",
       "    <tr>\n",
       "      <th>Source of Variation</th>\n",
       "      <th></th>\n",
       "      <th></th>\n",
       "      <th></th>\n",
       "      <th></th>\n",
       "      <th></th>\n",
       "      <th></th>\n",
       "    </tr>\n",
       "  </thead>\n",
       "  <tbody>\n",
       "    <tr>\n",
       "      <th>Between Groups</th>\n",
       "      <td>91372.264109</td>\n",
       "      <td>4</td>\n",
       "      <td>22843.066027</td>\n",
       "      <td>94.611205</td>\n",
       "      <td>0.0</td>\n",
       "      <td>2.789013</td>\n",
       "    </tr>\n",
       "    <tr>\n",
       "      <th>Within Groups</th>\n",
       "      <td>964075.684865</td>\n",
       "      <td>3993</td>\n",
       "      <td>241.441444</td>\n",
       "      <td></td>\n",
       "      <td></td>\n",
       "      <td></td>\n",
       "    </tr>\n",
       "    <tr>\n",
       "      <th>Total</th>\n",
       "      <td>1055447.948974</td>\n",
       "      <td>3997</td>\n",
       "      <td>264.060032</td>\n",
       "      <td></td>\n",
       "      <td></td>\n",
       "      <td></td>\n",
       "    </tr>\n",
       "  </tbody>\n",
       "</table>\n",
       "</div>"
      ],
      "text/plain": [
       "                                 SS    df            MS          F P-value  \\\n",
       "Source of Variation                                                          \n",
       "Between Groups         91372.264109     4  22843.066027  94.611205     0.0   \n",
       "Within Groups         964075.684865  3993    241.441444                      \n",
       "Total                1055447.948974  3997    264.060032                      \n",
       "\n",
       "                       F crit  \n",
       "Source of Variation            \n",
       "Between Groups       2.789013  \n",
       "Within Groups                  \n",
       "Total                          "
      ]
     },
     "execution_count": 22,
     "metadata": {},
     "output_type": "execute_result"
    }
   ],
   "source": [
    "anova_table"
   ]
  },
  {
   "cell_type": "markdown",
   "metadata": {},
   "source": [
    "We can see that the p-value is $0.0$ which is less than $\\alpha = 0.05$. Hence we reject the null hypothesis. We can conlcude that the different countries does not have similar passwords. We can infer this as because of language differences."
   ]
  },
  {
   "cell_type": "markdown",
   "metadata": {},
   "source": [
    "### Hypothesis 2"
   ]
  },
  {
   "cell_type": "markdown",
   "metadata": {},
   "source": [
    "Null Hypothesis: We hypothesize that the English and Spanish passwords are similar.\n",
    "\n",
    "$$\n",
    "H_0: \\mu_{United States} =\\mu_{Spain}\n",
    "$$\n",
    "\n",
    "Alternate Hypothesis: The passwords are not identical for English and Spanish languages.\n",
    "$$\n",
    "H_{\\alpha}: \\mu_{United States} \\neq \\mu_{Spain}\n",
    "$$"
   ]
  },
  {
   "cell_type": "markdown",
   "metadata": {},
   "source": [
    "Before performing tests for two population, we will check if the population variances are smae or not. "
   ]
  },
  {
   "cell_type": "code",
   "execution_count": 33,
   "metadata": {},
   "outputs": [
    {
     "data": {
      "text/plain": [
       "1.054765862885166"
      ]
     },
     "execution_count": 33,
     "metadata": {},
     "output_type": "execute_result"
    }
   ],
   "source": [
    "# calculating the ratio of variances\n",
    "var_us/var_es"
   ]
  },
  {
   "cell_type": "markdown",
   "metadata": {},
   "source": [
    "Since the ratio of variances is less than $2$, we can assume that the two population have same variance so we will perform equal variance t-test."
   ]
  },
  {
   "cell_type": "code",
   "execution_count": 35,
   "metadata": {},
   "outputs": [],
   "source": [
    "# calculating the pooled sample variance\n",
    "pooled_sample_variance = ((n_us-1) * var_us + (n_es-1) * var_es)/(n_us - 1 - n_es - 1)"
   ]
  },
  {
   "cell_type": "code",
   "execution_count": 37,
   "metadata": {},
   "outputs": [
    {
     "data": {
      "text/plain": [
       "0.0030257041491937283"
      ]
     },
     "execution_count": 37,
     "metadata": {},
     "output_type": "execute_result"
    }
   ],
   "source": [
    "# calculating the t-statistic\n",
    "t_statistic = (mean_us - mean_es)/(pooled_sample_variance * (1/n_us + 1/n_es))\n",
    "t_statistic"
   ]
  },
  {
   "cell_type": "code",
   "execution_count": 41,
   "metadata": {},
   "outputs": [
    {
     "data": {
      "text/plain": [
       "0.49879310923918674"
      ]
     },
     "execution_count": 41,
     "metadata": {},
     "output_type": "execute_result"
    }
   ],
   "source": [
    "# calculating the p-value\n",
    "p_val = 1 - t.cdf(t_statistic, df=n_us + n_es - 1)\n",
    "p_val"
   ]
  },
  {
   "cell_type": "markdown",
   "metadata": {},
   "source": [
    "We  can see that $p-value = 0.498$ which is almost equal to $\\alpha = 0.05$. Since we do not have any evidence to reject the null hypothesis, it might be possible that the english and spanish passwords are similar."
   ]
  }
 ],
 "metadata": {
  "interpreter": {
   "hash": "799123d8584ff8e429164f9ada39181d2ebba77babc969db7f771407bbcee4e2"
  },
  "kernelspec": {
   "display_name": "Python 3.9.7 64-bit ('base': conda)",
   "language": "python",
   "name": "python3"
  },
  "language_info": {
   "codemirror_mode": {
    "name": "ipython",
    "version": 3
   },
   "file_extension": ".py",
   "mimetype": "text/x-python",
   "name": "python",
   "nbconvert_exporter": "python",
   "pygments_lexer": "ipython3",
   "version": "3.9.7"
  },
  "orig_nbformat": 4
 },
 "nbformat": 4,
 "nbformat_minor": 2
}
