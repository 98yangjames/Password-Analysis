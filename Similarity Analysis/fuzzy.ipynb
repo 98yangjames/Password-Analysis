{
 "cells": [
  {
   "cell_type": "code",
   "execution_count": 10,
   "metadata": {},
   "outputs": [
    {
     "name": "stdout",
     "output_type": "stream",
     "text": [
      "Collecting fuzzywuzzy\n",
      "  Using cached fuzzywuzzy-0.18.0-py2.py3-none-any.whl (18 kB)\n",
      "Installing collected packages: fuzzywuzzy\n",
      "Successfully installed fuzzywuzzy-0.18.0\n"
     ]
    }
   ],
   "source": [
    "!pip install fuzzywuzzy"
   ]
  },
  {
   "cell_type": "code",
   "execution_count": 12,
   "metadata": {},
   "outputs": [],
   "source": [
    "# import required packages\n",
    "import pandas as pd\n",
    "import numpy as np\n",
    "\n",
    "from fuzzywuzzy import process, fuzz"
   ]
  },
  {
   "cell_type": "code",
   "execution_count": 3,
   "metadata": {},
   "outputs": [
    {
     "data": {
      "text/html": [
       "<div>\n",
       "<style scoped>\n",
       "    .dataframe tbody tr th:only-of-type {\n",
       "        vertical-align: middle;\n",
       "    }\n",
       "\n",
       "    .dataframe tbody tr th {\n",
       "        vertical-align: top;\n",
       "    }\n",
       "\n",
       "    .dataframe thead th {\n",
       "        text-align: right;\n",
       "    }\n",
       "</style>\n",
       "<table border=\"1\" class=\"dataframe\">\n",
       "  <thead>\n",
       "    <tr style=\"text-align: right;\">\n",
       "      <th></th>\n",
       "      <th>country_code</th>\n",
       "      <th>country</th>\n",
       "      <th>Rank</th>\n",
       "      <th>Password</th>\n",
       "      <th>User_count</th>\n",
       "      <th>Time_to_crack</th>\n",
       "      <th>Global_rank</th>\n",
       "      <th>Time_to_crack_in_seconds</th>\n",
       "      <th>length</th>\n",
       "      <th>unique_chars</th>\n",
       "      <th>numbers</th>\n",
       "      <th>symbols</th>\n",
       "      <th>symbols_and_numbers</th>\n",
       "      <th>sequentials</th>\n",
       "    </tr>\n",
       "  </thead>\n",
       "  <tbody>\n",
       "    <tr>\n",
       "      <th>0</th>\n",
       "      <td>cn</td>\n",
       "      <td>China</td>\n",
       "      <td>1</td>\n",
       "      <td>123456</td>\n",
       "      <td>8159358</td>\n",
       "      <td>&lt; 1 second</td>\n",
       "      <td>1.0</td>\n",
       "      <td>0</td>\n",
       "      <td>6</td>\n",
       "      <td>6</td>\n",
       "      <td>6</td>\n",
       "      <td>0</td>\n",
       "      <td>6</td>\n",
       "      <td>0</td>\n",
       "    </tr>\n",
       "    <tr>\n",
       "      <th>1</th>\n",
       "      <td>cn</td>\n",
       "      <td>China</td>\n",
       "      <td>2</td>\n",
       "      <td>123456789</td>\n",
       "      <td>1817250</td>\n",
       "      <td>&lt; 1 second</td>\n",
       "      <td>2.0</td>\n",
       "      <td>0</td>\n",
       "      <td>9</td>\n",
       "      <td>9</td>\n",
       "      <td>9</td>\n",
       "      <td>0</td>\n",
       "      <td>9</td>\n",
       "      <td>0</td>\n",
       "    </tr>\n",
       "    <tr>\n",
       "      <th>2</th>\n",
       "      <td>cn</td>\n",
       "      <td>China</td>\n",
       "      <td>3</td>\n",
       "      <td>12345678</td>\n",
       "      <td>700019</td>\n",
       "      <td>&lt; 1 second</td>\n",
       "      <td>6.0</td>\n",
       "      <td>0</td>\n",
       "      <td>8</td>\n",
       "      <td>8</td>\n",
       "      <td>8</td>\n",
       "      <td>0</td>\n",
       "      <td>8</td>\n",
       "      <td>0</td>\n",
       "    </tr>\n",
       "    <tr>\n",
       "      <th>3</th>\n",
       "      <td>cn</td>\n",
       "      <td>China</td>\n",
       "      <td>4</td>\n",
       "      <td>654321</td>\n",
       "      <td>245827</td>\n",
       "      <td>&lt; 1 second</td>\n",
       "      <td>23.0</td>\n",
       "      <td>0</td>\n",
       "      <td>6</td>\n",
       "      <td>6</td>\n",
       "      <td>6</td>\n",
       "      <td>0</td>\n",
       "      <td>6</td>\n",
       "      <td>0</td>\n",
       "    </tr>\n",
       "    <tr>\n",
       "      <th>4</th>\n",
       "      <td>cn</td>\n",
       "      <td>China</td>\n",
       "      <td>5</td>\n",
       "      <td>1234567890</td>\n",
       "      <td>210168</td>\n",
       "      <td>&lt; 1 second</td>\n",
       "      <td>9.0</td>\n",
       "      <td>0</td>\n",
       "      <td>10</td>\n",
       "      <td>10</td>\n",
       "      <td>10</td>\n",
       "      <td>0</td>\n",
       "      <td>10</td>\n",
       "      <td>0</td>\n",
       "    </tr>\n",
       "  </tbody>\n",
       "</table>\n",
       "</div>"
      ],
      "text/plain": [
       "  country_code country  Rank    Password  User_count Time_to_crack  \\\n",
       "0           cn   China     1      123456     8159358    < 1 second   \n",
       "1           cn   China     2   123456789     1817250    < 1 second   \n",
       "2           cn   China     3    12345678      700019    < 1 second   \n",
       "3           cn   China     4      654321      245827    < 1 second   \n",
       "4           cn   China     5  1234567890      210168    < 1 second   \n",
       "\n",
       "   Global_rank  Time_to_crack_in_seconds  length  unique_chars  numbers  \\\n",
       "0          1.0                         0       6             6        6   \n",
       "1          2.0                         0       9             9        9   \n",
       "2          6.0                         0       8             8        8   \n",
       "3         23.0                         0       6             6        6   \n",
       "4          9.0                         0      10            10       10   \n",
       "\n",
       "   symbols  symbols_and_numbers  sequentials  \n",
       "0        0                    6            0  \n",
       "1        0                    9            0  \n",
       "2        0                    8            0  \n",
       "3        0                    6            0  \n",
       "4        0                   10            0  "
      ]
     },
     "execution_count": 3,
     "metadata": {},
     "output_type": "execute_result"
    }
   ],
   "source": [
    "# read the data\n",
    "df = pd.read_csv('D:\\\\Password-Analysis\\\\top_200_password_2020_by_country_extended.csv')\n",
    "df.head()"
   ]
  },
  {
   "cell_type": "code",
   "execution_count": 6,
   "metadata": {},
   "outputs": [
    {
     "data": {
      "text/plain": [
       "array(['cn', 'ru', 'es', 'us', 'vn'], dtype=object)"
      ]
     },
     "execution_count": 6,
     "metadata": {},
     "output_type": "execute_result"
    }
   ],
   "source": [
    "# get country codes\n",
    "df.country_code.unique()"
   ]
  },
  {
   "cell_type": "code",
   "execution_count": 7,
   "metadata": {},
   "outputs": [],
   "source": [
    "# get countrywise data\n",
    "df_cn = df.loc[df['country_code'] == 'cn']\n",
    "df_ru = df.loc[df['country_code'] == 'ru']\n",
    "df_es = df.loc[df['country_code'] == 'es']\n",
    "df_us = df.loc[df['country_code'] == 'us']\n",
    "df_vn = df.loc[df['country_code'] == 'vn']"
   ]
  },
  {
   "cell_type": "code",
   "execution_count": 26,
   "metadata": {},
   "outputs": [],
   "source": [
    "# defining function to calculate the fuzzy score\n",
    "def fuzzy_similarity(password_df):\n",
    "        \"\"\"\n",
    "        Function to calculate the fuzzy score between different passwords\n",
    "        Args:\n",
    "        password_df - \n",
    "        Return:\n",
    "\n",
    "        \"\"\"\n",
    "\n",
    "        # calculate the fuzzy score\n",
    "        fuzzy_score = [(x,) + i\n",
    "                        for x in password_df \n",
    "                        for i in process.extract(x, password_df, scorer=fuzz.token_sort_ratio)]\n",
    "\n",
    "        # create dataframe from above calculated score\n",
    "        fuzzy_df = pd.DataFrame(fuzzy_score, columns=['password','match','score', 'index'])\n",
    "\n",
    "        # drop the last column as it is not needed\n",
    "        fuzzy_df.drop(columns='index', inplace=True)\n",
    "\n",
    "        # remove the score calculation itself\n",
    "        fuzzy_df = fuzzy_df[fuzzy_df['password'] != fuzzy_df['match']]\n",
    "\n",
    "        return fuzzy_df\n",
    "    "
   ]
  },
  {
   "cell_type": "code",
   "execution_count": 28,
   "metadata": {},
   "outputs": [],
   "source": [
    "# calculating fuzzy score for each country\n",
    "fuzzy_df_cn = fuzzy_similarity(df_cn['Password'])\n",
    "fuzzy_df_ru = fuzzy_similarity(df_cn['Password'])\n",
    "fuzzy_df_es = fuzzy_similarity(df_cn['Password'])\n",
    "fuzzy_df_us = fuzzy_similarity(df_cn['Password'])\n",
    "fuzzy_df_vn = fuzzy_similarity(df_cn['Password'])"
   ]
  },
  {
   "cell_type": "markdown",
   "metadata": {},
   "source": [
    "## Performing Statistical Analysis"
   ]
  },
  {
   "cell_type": "markdown",
   "metadata": {},
   "source": [
    "Null Hypothesis: We hypothesize that the passwords will be identical across different languages and countries.\n",
    "\n",
    "$$\n",
    "H_0: \\mu_{China} = \\mu_{United States} = \\mu_{Russia} = \\mu_{Mexico} = \\mu_{Vietnam}\n",
    "$$\n",
    "\n",
    "Alternate Hypothesis: The password are not identical accross different languages and countries."
   ]
  },
  {
   "cell_type": "markdown",
   "metadata": {},
   "source": [
    "ANOVA is the most suitable approach for these kinds for tests, so before performing ANOVA we will first check if all the required assumptions are met or not to perform ANOVA.\n",
    "\n",
    "ANOVA test is based on the following assumptions:\n",
    "1. Data is normally distributed\n",
    "2. Homogeneity of variance\n",
    "3. Observation are independent of each other"
   ]
  },
  {
   "cell_type": "code",
   "execution_count": null,
   "metadata": {},
   "outputs": [],
   "source": []
  }
 ],
 "metadata": {
  "interpreter": {
   "hash": "799123d8584ff8e429164f9ada39181d2ebba77babc969db7f771407bbcee4e2"
  },
  "kernelspec": {
   "display_name": "Python 3.9.7 64-bit ('base': conda)",
   "language": "python",
   "name": "python3"
  },
  "language_info": {
   "codemirror_mode": {
    "name": "ipython",
    "version": 3
   },
   "file_extension": ".py",
   "mimetype": "text/x-python",
   "name": "python",
   "nbconvert_exporter": "python",
   "pygments_lexer": "ipython3",
   "version": "3.9.7"
  },
  "orig_nbformat": 4
 },
 "nbformat": 4,
 "nbformat_minor": 2
}
